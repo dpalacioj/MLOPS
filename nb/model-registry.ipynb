{
 "cells": [
  {
   "cell_type": "markdown",
   "metadata": {},
   "source": [
    "Based on [mlopszoomcamp-chapter2-Model Registry](https://github.com/DataTalksClub/mlops-zoomcamp/blob/main/02-experiment-tracking/model-registry.ipynb)"
   ]
  },
  {
   "cell_type": "code",
   "execution_count": null,
   "metadata": {},
   "outputs": [],
   "source": [
    "from mlflow.tracking import MlflowClient\n",
    "\n",
    "MLFLOW_TRACKING_URI = \"sqlite:///../experiments/mlflow.db\"\n",
    "\n",
    "client = MlflowClient(tracking_uri=MLFLOW_TRACKING_URI)"
   ]
  },
  {
   "cell_type": "code",
   "execution_count": 23,
   "metadata": {},
   "outputs": [
    {
     "data": {
      "text/plain": [
       "[<Experiment: artifact_location='/mnt/d/projects/mlops_example/nb/mlruns/2', creation_time=1718586191452, experiment_id='2', last_update_time=1718586191452, lifecycle_stage='active', name='my-cool-experiment', tags={}>,\n",
       " <Experiment: artifact_location='/mnt/d/projects/mlops_example/nb/mlruns/1', creation_time=1718519409655, experiment_id='1', last_update_time=1718519409655, lifecycle_stage='active', name='nyc-taxi-experiment', tags={}>,\n",
       " <Experiment: artifact_location='mlflow-artifacts:/0', creation_time=1718517402268, experiment_id='0', last_update_time=1718517402268, lifecycle_stage='active', name='Default', tags={}>]"
      ]
     },
     "execution_count": 23,
     "metadata": {},
     "output_type": "execute_result"
    }
   ],
   "source": [
    "client.search_experiments()"
   ]
  },
  {
   "cell_type": "code",
   "execution_count": 5,
   "metadata": {},
   "outputs": [
    {
     "data": {
      "text/plain": [
       "'2'"
      ]
     },
     "execution_count": 5,
     "metadata": {},
     "output_type": "execute_result"
    }
   ],
   "source": [
    "client.create_experiment(name=\"my-cool-experiment\")"
   ]
  },
  {
   "cell_type": "code",
   "execution_count": 34,
   "metadata": {},
   "outputs": [],
   "source": [
    "from mlflow.entities import ViewType\n",
    "\n",
    "runs = client.search_runs(\n",
    "    experiment_ids='1',\n",
    "    filter_string=\"metrics.mae < 40\",\n",
    "    run_view_type=ViewType.ACTIVE_ONLY,\n",
    "    max_results=40,\n",
    "    order_by = [\"metrics.mae ASC\"]\n",
    "\n",
    ")"
   ]
  },
  {
   "cell_type": "code",
   "execution_count": 35,
   "metadata": {},
   "outputs": [
    {
     "name": "stdout",
     "output_type": "stream",
     "text": [
      "run id: aedd49e2a0064a7cb4b8a68f6e671964, mae:4.1601\n",
      "run id: 3abf44d126184d95acee1f6dd68f2e06, mae:4.1601\n",
      "run id: e624f0cd9088417abd21f8056835d457, mae:4.1763\n",
      "run id: 0652498fa132463696388baacfd2cac8, mae:4.2104\n",
      "run id: 15df42e1b53e43b8b219b5277a7d58db, mae:4.2359\n",
      "run id: e1fa557e8e934907b63d44906afbebc8, mae:4.2625\n",
      "run id: 8c062bec68a241ceb240f0539ae592a8, mae:4.2663\n",
      "run id: d29afa606bc74723b9cbfdfb6f5cce88, mae:4.2692\n",
      "run id: ecb786aa4b9441c0affc9de7baff9838, mae:4.3262\n",
      "run id: be35763aed9243edba1208a95389ab35, mae:4.3263\n",
      "run id: 8f0166c41e1244c29bbff38c1a2c07b2, mae:4.3519\n",
      "run id: 6b1c8076d1de41a6bec1cc840f14dfdc, mae:4.3530\n",
      "run id: 902171bccb6b47169aeb8c85d64988f6, mae:4.4012\n",
      "run id: 7c40fff50d4445a2a1b9c47198bed061, mae:4.5184\n",
      "run id: ee78443185f6475babc5d755c69b13f1, mae:4.6035\n",
      "run id: 0d4effe279b24a1da71f7d379621d428, mae:5.2412\n",
      "run id: d94e0a431cdb4302a5beb5bc470c5650, mae:8.2296\n",
      "run id: 42c0dafbdaac45ddafdd67b3c18531d1, mae:9.3309\n",
      "run id: ca7ac5269ab84c68a7c3b7733efcaecb, mae:9.3309\n",
      "run id: 75bdf219871b4cbbad75bddd2d0487ad, mae:9.3309\n",
      "run id: e3c8616861f44a8f8a323fed6874e54e, mae:9.3309\n",
      "run id: ce49d85579c24f3ab226935b8289494a, mae:39.6943\n"
     ]
    }
   ],
   "source": [
    "for run in runs:\n",
    "    print(f\"run id: {run.info.run_id}, mae:{run.data.metrics['mae']:.4f}\")"
   ]
  },
  {
   "cell_type": "code",
   "execution_count": null,
   "metadata": {},
   "outputs": [],
   "source": []
  },
  {
   "cell_type": "code",
   "execution_count": 14,
   "metadata": {},
   "outputs": [],
   "source": [
    "import mlflow\n",
    "\n",
    "mlflow.set_tracking_uri(MLFLOW_TRACKING_URI)"
   ]
  },
  {
   "cell_type": "code",
   "execution_count": 36,
   "metadata": {},
   "outputs": [
    {
     "name": "stderr",
     "output_type": "stream",
     "text": [
      "Registered model 'nyc-taxi-regressor-short' already exists. Creating a new version of this model...\n",
      "Created version '4' of model 'nyc-taxi-regressor-short'.\n"
     ]
    },
    {
     "data": {
      "text/plain": [
       "<ModelVersion: aliases=[], creation_timestamp=1718598841471, current_stage='None', description=None, last_updated_timestamp=1718598841471, name='nyc-taxi-regressor-short', run_id='ee78443185f6475babc5d755c69b13f1', run_link=None, source='/mnt/d/projects/mlops_example/nb/mlruns/1/ee78443185f6475babc5d755c69b13f1/artifacts/model', status='READY', status_message=None, tags={}, user_id=None, version=4>"
      ]
     },
     "execution_count": 36,
     "metadata": {},
     "output_type": "execute_result"
    }
   ],
   "source": [
    "# Create a new version of the model to REGISTER MODEL\n",
    "\n",
    "run_id = \"ee78443185f6475babc5d755c69b13f1\"\n",
    "\n",
    "model_uri = f\"runs:/{run_id}/model\"\n",
    "mlflow.register_model(model_uri=model_uri, name=\"nyc-taxi-regressor-short\")"
   ]
  },
  {
   "cell_type": "code",
   "execution_count": 37,
   "metadata": {},
   "outputs": [
    {
     "name": "stderr",
     "output_type": "stream",
     "text": [
      "/tmp/ipykernel_29168/4177189500.py:4: FutureWarning: ``mlflow.tracking.client.MlflowClient.get_latest_versions`` is deprecated since 2.9.0. Model registry stages will be removed in a future major release. To learn more about the deprecation of model registry stages, see our migration guide here: https://mlflow.org/docs/2.13.2/model-registry.html#migrating-from-stages\n",
      "  client.get_latest_versions(name=model_name)\n"
     ]
    },
    {
     "data": {
      "text/plain": [
       "[<ModelVersion: aliases=[], creation_timestamp=1718597910653, current_stage='Staging', description='', last_updated_timestamp=1718597963283, name='nyc-taxi-regressor-short', run_id='0d4effe279b24a1da71f7d379621d428', run_link='', source='/mnt/d/projects/mlops_example/nb/mlruns/1/0d4effe279b24a1da71f7d379621d428/artifacts/model', status='READY', status_message=None, tags={}, user_id=None, version=2>,\n",
       " <ModelVersion: aliases=[], creation_timestamp=1718597923962, current_stage='Production', description='', last_updated_timestamp=1718597953431, name='nyc-taxi-regressor-short', run_id='ce49d85579c24f3ab226935b8289494a', run_link='', source='/mnt/d/projects/mlops_example/nb/mlruns/1/ce49d85579c24f3ab226935b8289494a/artifacts/model', status='READY', status_message=None, tags={}, user_id=None, version=3>,\n",
       " <ModelVersion: aliases=[], creation_timestamp=1718598841471, current_stage='None', description=None, last_updated_timestamp=1718598841471, name='nyc-taxi-regressor-short', run_id='ee78443185f6475babc5d755c69b13f1', run_link=None, source='/mnt/d/projects/mlops_example/nb/mlruns/1/ee78443185f6475babc5d755c69b13f1/artifacts/model', status='READY', status_message=None, tags={}, user_id=None, version=4>]"
      ]
     },
     "execution_count": 37,
     "metadata": {},
     "output_type": "execute_result"
    }
   ],
   "source": [
    "# Transition a model to another stage\n",
    "\n",
    "model_name = \"nyc-taxi-regressor-short\"\n",
    "client.get_latest_versions(name=model_name)"
   ]
  },
  {
   "cell_type": "code",
   "execution_count": 38,
   "metadata": {},
   "outputs": [
    {
     "name": "stdout",
     "output_type": "stream",
     "text": [
      "version: 2, stage: Staging\n",
      "version: 3, stage: Production\n",
      "version: 4, stage: None\n"
     ]
    },
    {
     "name": "stderr",
     "output_type": "stream",
     "text": [
      "/tmp/ipykernel_29168/1315063750.py:2: FutureWarning: ``mlflow.tracking.client.MlflowClient.get_latest_versions`` is deprecated since 2.9.0. Model registry stages will be removed in a future major release. To learn more about the deprecation of model registry stages, see our migration guide here: https://mlflow.org/docs/2.13.2/model-registry.html#migrating-from-stages\n",
      "  latest_versions = client.get_latest_versions(name=model_name)\n"
     ]
    }
   ],
   "source": [
    "model_name = \"nyc-taxi-regressor-short\"\n",
    "latest_versions = client.get_latest_versions(name=model_name)\n",
    "\n",
    "for version in latest_versions:\n",
    "    print(f\"version: {version.version}, stage: {version.current_stage}\")"
   ]
  },
  {
   "cell_type": "code",
   "execution_count": 39,
   "metadata": {},
   "outputs": [
    {
     "name": "stderr",
     "output_type": "stream",
     "text": [
      "/tmp/ipykernel_29168/3888885130.py:1: FutureWarning: ``mlflow.tracking.client.MlflowClient.transition_model_version_stage`` is deprecated since 2.9.0. Model registry stages will be removed in a future major release. To learn more about the deprecation of model registry stages, see our migration guide here: https://mlflow.org/docs/2.13.2/model-registry.html#migrating-from-stages\n",
      "  client.transition_model_version_stage(\n"
     ]
    },
    {
     "data": {
      "text/plain": [
       "<ModelVersion: aliases=[], creation_timestamp=1718598841471, current_stage='Staging', description=None, last_updated_timestamp=1718598893971, name='nyc-taxi-regressor-short', run_id='ee78443185f6475babc5d755c69b13f1', run_link=None, source='/mnt/d/projects/mlops_example/nb/mlruns/1/ee78443185f6475babc5d755c69b13f1/artifacts/model', status='READY', status_message=None, tags={}, user_id=None, version=4>"
      ]
     },
     "execution_count": 39,
     "metadata": {},
     "output_type": "execute_result"
    }
   ],
   "source": [
    "client.transition_model_version_stage(\n",
    "    name=model_name,\n",
    "    version=4,\n",
    "    stage='Staging',\n",
    "    archive_existing_versions=False\n",
    ")"
   ]
  },
  {
   "cell_type": "code",
   "execution_count": 40,
   "metadata": {},
   "outputs": [
    {
     "data": {
      "text/plain": [
       "<ModelVersion: aliases=[], creation_timestamp=1718597886168, current_stage='Staging', description='The model version 1 was transitioned to Staging on 2024-06-16', last_updated_timestamp=1718598926274, name='nyc-taxi-regressor-short', run_id='ee78443185f6475babc5d755c69b13f1', run_link='', source='/mnt/d/projects/mlops_example/nb/mlruns/1/ee78443185f6475babc5d755c69b13f1/artifacts/model', status='READY', status_message=None, tags={}, user_id=None, version=1>"
      ]
     },
     "execution_count": 40,
     "metadata": {},
     "output_type": "execute_result"
    }
   ],
   "source": [
    "from datetime import datetime\n",
    "\n",
    "date = datetime.today().date()\n",
    "client.update_model_version(\n",
    "    name=model_name,\n",
    "    version=model_version,\n",
    "    description=f\"The model version {model_version} was transitioned to {new_stage} on {date}\"\n",
    ")"
   ]
  },
  {
   "cell_type": "code",
   "execution_count": null,
   "metadata": {},
   "outputs": [],
   "source": []
  }
 ],
 "metadata": {
  "kernelspec": {
   "display_name": "mlops",
   "language": "python",
   "name": "python3"
  },
  "language_info": {
   "codemirror_mode": {
    "name": "ipython",
    "version": 3
   },
   "file_extension": ".py",
   "mimetype": "text/x-python",
   "name": "python",
   "nbconvert_exporter": "python",
   "pygments_lexer": "ipython3",
   "version": "3.10.14"
  }
 },
 "nbformat": 4,
 "nbformat_minor": 2
}
